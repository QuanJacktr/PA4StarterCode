{
 "cells": [
  {
   "cell_type": "code",
   "execution_count": 1,
   "metadata": {},
   "outputs": [],
   "source": [
    "# some useful mysklearn package import statements and reloads\n",
    "import importlib\n",
    "\n",
    "import mysklearn.myutils\n",
    "importlib.reload(mysklearn.myutils)\n",
    "import mysklearn.myutils as myutils\n",
    "\n",
    "# uncomment once you paste your mypytable.py into mysklearn package\n",
    "# import mysklearn.mypytable\n",
    "# importlib.reload(mysklearn.mypytable)\n",
    "# from mysklearn.mypytable import MyPyTable \n",
    "\n",
    "import mysklearn.myclassifiers\n",
    "importlib.reload(mysklearn.myclassifiers)\n",
    "from mysklearn.myclassifiers import MySimpleLinearRegressionClassifier,\\\n",
    "    MyKNeighborsClassifier,\\\n",
    "    MyDummyClassifier"
   ]
  },
  {
   "cell_type": "markdown",
   "metadata": {},
   "source": [
    "# Simple Classifiers Implemenation\n",
    "This notebook implements and tests simple classifiers for the programming assignment\n"
   ]
  },
  {
   "cell_type": "code",
   "execution_count": null,
   "metadata": {},
   "outputs": [],
   "source": [
    "#Imports and reloads\n",
    "import importlib\n",
    "\n",
    "import mysklearn.myutils\n",
    "importlib.reload(mysklearn.myutils)\n",
    "import mysklearn.myutils as myutils\n",
    "\n",
    "# Uncomment once you paste your mypytable.py into mysklearn package\n",
    "# import mysklearn.mypytable\n",
    "# importlib.reload(mysklearn.mypytable)\n",
    "# from mysklearn.mypytable import MyPyTable\n",
    "\n",
    "import mysklearn.myclassifiers\n",
    "importlib.reload(mysklearn.myclassifiers)\n",
    "from mysklearn.myclassifiers import MySimpleLinearRegressionClassifier, MyKNeighborsClassifier, MyDummyClassifier\n",
    "\n",
    "import numpy as np"
   ]
  },
  {
   "cell_type": "markdown",
   "metadata": {},
   "source": [
    "## 1. MySimpleLinerRegressionClassifier"
   ]
  },
  {
   "cell_type": "code",
   "execution_count": null,
   "metadata": {},
   "outputs": [],
   "source": [
    "class MySimpleLinearRegressionClassifer:\n",
    "    def fit(self, X_train, y_train):\n",
    "        #Implement training logic here\n",
    "        pass\n",
    "\n",
    "    def predict(self, X_test):\n",
    "        #Implement prediction logic here\n",
    "         return np.zero(len(X_test)) #Placeholder"
   ]
  },
  {
   "cell_type": "markdown",
   "metadata": {},
   "source": [
    "## 2. MyKNeighborsClassifer"
   ]
  },
  {
   "cell_type": "code",
   "execution_count": null,
   "metadata": {},
   "outputs": [],
   "source": [
    "class MyKNeighborsClassifier:\n",
    "    def __init__(self, k-3):\n",
    "        self.k = k \n",
    "    \n",
    "    def fit(self, X_train, y_train):\n",
    "        # Implement training logic her\n",
    "        pass\n",
    "\n",
    "    def predict(self, X_test):\n",
    "        # Implement prediction logic here\n",
    "        return np.zeros(len(X_test))"
   ]
  },
  {
   "cell_type": "markdown",
   "metadata": {},
   "source": [
    "## 3. MyDummyClassifier"
   ]
  },
  {
   "cell_type": "code",
   "execution_count": null,
   "metadata": {},
   "outputs": [],
   "source": [
    "class MyDummyClasssifier:\n",
    "    def fit(self, X_train, y_train):\n",
    "        # Implement training logic here\n",
    "        pass\n",
    "\n",
    "    def predicct(self, X_test):\n",
    "        # Implement prediction logic her\n",
    "        return np.zeros(len(X_test)) # Placeholder"
   ]
  },
  {
   "cell_type": "markdown",
   "metadata": {},
   "source": [
    "## 4. Comparison of Classifiers"
   ]
  },
  {
   "cell_type": "code",
   "execution_count": null,
   "metadata": {},
   "outputs": [],
   "source": [
    "X, y = myutils.load_dataset(\"your_dataset.csv\")\n",
    "\n",
    "X_train, X_test, y_train, y_test = myutils.train_test_split(X, y)\n",
    "\n",
    "classifiers = [\n",
    "    (\"Simple Linear Regression\", MySimpleLinearRegressionClassifier()),\n",
    "    (\"K-Nearest Neighbors\", MyKNeighborsClassifier(k=3)),\n",
    "    (\"Dummy Classifier\", MyDummyClassifier())\n",
    "]\n",
    "\n",
    "for name, clf in classifiers:\n",
    "    clf.fit(X_train, y_train)\n",
    "    y_pred = clf.predict(X_test)\n",
    "    accuracy = myutils.accuracy_score(y_test, y_pred)\n",
    "    print(f\"{name} Accuracy: {accuracy:.2f}\")"
   ]
  }
 ],
 "metadata": {
  "kernelspec": {
   "display_name": "Python 3.9.7 64-bit",
   "language": "python",
   "name": "python3"
  },
  "language_info": {
   "codemirror_mode": {
    "name": "ipython",
    "version": 3
   },
   "file_extension": ".py",
   "mimetype": "text/x-python",
   "name": "python",
   "nbconvert_exporter": "python",
   "pygments_lexer": "ipython3",
   "version": "3.9.7"
  },
  "vscode": {
   "interpreter": {
    "hash": "aee8b7b246df8f9039afb4144a1f6fd8d2ca17a180786b69acc140d282b71a49"
   }
  }
 },
 "nbformat": 4,
 "nbformat_minor": 4
}
